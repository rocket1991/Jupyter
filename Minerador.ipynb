{
 "cells": [
  {
   "cell_type": "code",
   "execution_count": 2,
   "metadata": {},
   "outputs": [],
   "source": [
    "import plotly"
   ]
  },
  {
   "cell_type": "code",
   "execution_count": 4,
   "metadata": {},
   "outputs": [],
   "source": [
    "import pandas as pd"
   ]
  },
  {
   "cell_type": "code",
   "execution_count": 9,
   "metadata": {},
   "outputs": [],
   "source": [
    "df = pd.read_csv(\"PETR4.SA.csv\")"
   ]
  },
  {
   "cell_type": "code",
   "execution_count": 11,
   "metadata": {},
   "outputs": [
    {
     "data": {
      "text/html": [
       "<div>\n",
       "<style scoped>\n",
       "    .dataframe tbody tr th:only-of-type {\n",
       "        vertical-align: middle;\n",
       "    }\n",
       "\n",
       "    .dataframe tbody tr th {\n",
       "        vertical-align: top;\n",
       "    }\n",
       "\n",
       "    .dataframe thead th {\n",
       "        text-align: right;\n",
       "    }\n",
       "</style>\n",
       "<table border=\"1\" class=\"dataframe\">\n",
       "  <thead>\n",
       "    <tr style=\"text-align: right;\">\n",
       "      <th></th>\n",
       "      <th>Date</th>\n",
       "      <th>Open</th>\n",
       "      <th>High</th>\n",
       "      <th>Low</th>\n",
       "      <th>Close</th>\n",
       "      <th>Adj Close</th>\n",
       "      <th>Volume</th>\n",
       "    </tr>\n",
       "  </thead>\n",
       "  <tbody>\n",
       "    <tr>\n",
       "      <th>0</th>\n",
       "      <td>2015-03-30</td>\n",
       "      <td>9.50</td>\n",
       "      <td>9.75</td>\n",
       "      <td>9.42</td>\n",
       "      <td>9.71</td>\n",
       "      <td>9.008658</td>\n",
       "      <td>33372200.0</td>\n",
       "    </tr>\n",
       "    <tr>\n",
       "      <th>1</th>\n",
       "      <td>2015-03-31</td>\n",
       "      <td>9.58</td>\n",
       "      <td>9.92</td>\n",
       "      <td>9.47</td>\n",
       "      <td>9.66</td>\n",
       "      <td>8.962270</td>\n",
       "      <td>46908300.0</td>\n",
       "    </tr>\n",
       "    <tr>\n",
       "      <th>2</th>\n",
       "      <td>2015-04-01</td>\n",
       "      <td>9.93</td>\n",
       "      <td>10.37</td>\n",
       "      <td>9.87</td>\n",
       "      <td>10.26</td>\n",
       "      <td>9.518934</td>\n",
       "      <td>59374600.0</td>\n",
       "    </tr>\n",
       "    <tr>\n",
       "      <th>3</th>\n",
       "      <td>2015-04-02</td>\n",
       "      <td>10.17</td>\n",
       "      <td>10.72</td>\n",
       "      <td>10.17</td>\n",
       "      <td>10.69</td>\n",
       "      <td>9.917873</td>\n",
       "      <td>69001800.0</td>\n",
       "    </tr>\n",
       "    <tr>\n",
       "      <th>4</th>\n",
       "      <td>2015-04-06</td>\n",
       "      <td>10.80</td>\n",
       "      <td>10.99</td>\n",
       "      <td>10.68</td>\n",
       "      <td>10.71</td>\n",
       "      <td>9.936431</td>\n",
       "      <td>45227600.0</td>\n",
       "    </tr>\n",
       "    <tr>\n",
       "      <th>5</th>\n",
       "      <td>2015-04-07</td>\n",
       "      <td>10.60</td>\n",
       "      <td>10.96</td>\n",
       "      <td>10.46</td>\n",
       "      <td>10.92</td>\n",
       "      <td>10.131264</td>\n",
       "      <td>61721500.0</td>\n",
       "    </tr>\n",
       "    <tr>\n",
       "      <th>6</th>\n",
       "      <td>2015-04-08</td>\n",
       "      <td>11.10</td>\n",
       "      <td>11.33</td>\n",
       "      <td>10.49</td>\n",
       "      <td>10.57</td>\n",
       "      <td>9.806541</td>\n",
       "      <td>73904600.0</td>\n",
       "    </tr>\n",
       "    <tr>\n",
       "      <th>7</th>\n",
       "      <td>2015-04-09</td>\n",
       "      <td>10.70</td>\n",
       "      <td>11.60</td>\n",
       "      <td>10.58</td>\n",
       "      <td>11.58</td>\n",
       "      <td>10.743590</td>\n",
       "      <td>79280800.0</td>\n",
       "    </tr>\n",
       "    <tr>\n",
       "      <th>8</th>\n",
       "      <td>2015-04-10</td>\n",
       "      <td>11.52</td>\n",
       "      <td>11.93</td>\n",
       "      <td>11.27</td>\n",
       "      <td>11.81</td>\n",
       "      <td>10.956979</td>\n",
       "      <td>70021600.0</td>\n",
       "    </tr>\n",
       "    <tr>\n",
       "      <th>9</th>\n",
       "      <td>2015-04-13</td>\n",
       "      <td>11.97</td>\n",
       "      <td>12.75</td>\n",
       "      <td>11.90</td>\n",
       "      <td>12.27</td>\n",
       "      <td>11.383754</td>\n",
       "      <td>104809600.0</td>\n",
       "    </tr>\n",
       "  </tbody>\n",
       "</table>\n",
       "</div>"
      ],
      "text/plain": [
       "         Date   Open   High    Low  Close  Adj Close       Volume\n",
       "0  2015-03-30   9.50   9.75   9.42   9.71   9.008658   33372200.0\n",
       "1  2015-03-31   9.58   9.92   9.47   9.66   8.962270   46908300.0\n",
       "2  2015-04-01   9.93  10.37   9.87  10.26   9.518934   59374600.0\n",
       "3  2015-04-02  10.17  10.72  10.17  10.69   9.917873   69001800.0\n",
       "4  2015-04-06  10.80  10.99  10.68  10.71   9.936431   45227600.0\n",
       "5  2015-04-07  10.60  10.96  10.46  10.92  10.131264   61721500.0\n",
       "6  2015-04-08  11.10  11.33  10.49  10.57   9.806541   73904600.0\n",
       "7  2015-04-09  10.70  11.60  10.58  11.58  10.743590   79280800.0\n",
       "8  2015-04-10  11.52  11.93  11.27  11.81  10.956979   70021600.0\n",
       "9  2015-04-13  11.97  12.75  11.90  12.27  11.383754  104809600.0"
      ]
     },
     "execution_count": 11,
     "metadata": {},
     "output_type": "execute_result"
    }
   ],
   "source": [
    "df.head(10)"
   ]
  },
  {
   "cell_type": "code",
   "execution_count": 13,
   "metadata": {},
   "outputs": [
    {
     "ename": "NameError",
     "evalue": "name 'py' is not defined",
     "output_type": "error",
     "traceback": [
      "\u001b[0;31m---------------------------------------------------------------------------\u001b[0m",
      "\u001b[0;31mNameError\u001b[0m                                 Traceback (most recent call last)",
      "\u001b[0;32m<ipython-input-13-15ed5b925548>\u001b[0m in \u001b[0;36m<module>\u001b[0;34m\u001b[0m\n\u001b[1;32m      4\u001b[0m         y=df['Close'])]\n\u001b[1;32m      5\u001b[0m \u001b[0;34m\u001b[0m\u001b[0m\n\u001b[0;32m----> 6\u001b[0;31m \u001b[0mpy\u001b[0m\u001b[0;34m.\u001b[0m\u001b[0miplot\u001b[0m\u001b[0;34m(\u001b[0m\u001b[0mdata\u001b[0m\u001b[0;34m)\u001b[0m\u001b[0;34m\u001b[0m\u001b[0;34m\u001b[0m\u001b[0m\n\u001b[0m",
      "\u001b[0;31mNameError\u001b[0m: name 'py' is not defined"
     ]
    }
   ],
   "source": [
    "import plotly.graph_objs as go\n",
    "data = [go.Scatter(\n",
    "        x=df.Date, \n",
    "        y=df['Close'])]\n",
    "\n",
    "py.iplot(data)"
   ]
  }
 ],
 "metadata": {
  "kernelspec": {
   "display_name": "Python 3",
   "language": "python",
   "name": "python3"
  },
  "language_info": {
   "codemirror_mode": {
    "name": "ipython",
    "version": 3
   },
   "file_extension": ".py",
   "mimetype": "text/x-python",
   "name": "python",
   "nbconvert_exporter": "python",
   "pygments_lexer": "ipython3",
   "version": "3.7.2"
  }
 },
 "nbformat": 4,
 "nbformat_minor": 2
}
